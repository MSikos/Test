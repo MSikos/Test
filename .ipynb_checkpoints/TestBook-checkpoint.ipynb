{
 "cells": [
  {
   "cell_type": "markdown",
   "id": "c7c89f8b-3a27-40aa-8465-5b4dd62b95b8",
   "metadata": {},
   "source": [
    "# Test script"
   ]
  },
  {
   "cell_type": "markdown",
   "id": "26101d12-1b89-4808-9619-b6ba5fb9340e",
   "metadata": {},
   "source": [
    "This is a test, hopefully it will work the first time"
   ]
  },
  {
   "cell_type": "code",
   "execution_count": null,
   "id": "84092d8f-56e5-475c-b56d-10ef1b14c7d1",
   "metadata": {},
   "outputs": [],
   "source": []
  }
 ],
 "metadata": {
  "kernelspec": {
   "display_name": "Python 3 (ipykernel)",
   "language": "python",
   "name": "python3"
  },
  "language_info": {
   "codemirror_mode": {
    "name": "ipython",
    "version": 3
   },
   "file_extension": ".py",
   "mimetype": "text/x-python",
   "name": "python",
   "nbconvert_exporter": "python",
   "pygments_lexer": "ipython3",
   "version": "3.12.4"
  }
 },
 "nbformat": 4,
 "nbformat_minor": 5
}
